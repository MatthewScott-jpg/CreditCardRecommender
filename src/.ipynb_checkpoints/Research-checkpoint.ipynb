{
 "cells": [
  {
   "cell_type": "code",
   "execution_count": 7,
   "id": "90b68327-0d9c-4dbb-9abf-d70ee72c8e2d",
   "metadata": {},
   "outputs": [],
   "source": [
    "#Matthew Scott\n",
    "#Credit card Data Analytics, classification, prediction of Customer trends\n",
    "#https://www.kaggle.com/sakshigoyal7/credit-card-customers\n",
    "\n",
    "import pandas as pd\n",
    "import matplotlib.pyplot as plt\n",
    "import seaborn as sns\n",
    "import numpy as np\n",
    "import math\n",
    "from sklearn.decomposition import PCA\n",
    "from sklearn.preprocessing import MinMaxScaler\n",
    "from sklearn.cluster import KMeans, DBSCAN\n",
    "from sklearn.neighbors import NearestNeighbors\n",
    "from sklearn.metrics import silhouette_score"
   ]
  },
  {
   "cell_type": "code",
   "execution_count": 8,
   "id": "0972aae3-0cf8-41b6-91b0-2916f3c9ac01",
   "metadata": {},
   "outputs": [],
   "source": [
    "df = pd.read_csv('/Users/scott/Desktop/HCL/resources/BankChurners.csv') \n",
    "#drop clientnum, clean then drop attrition_flag\n",
    "X = df.drop(['CLIENTNUM',\n",
    "             'Naive_Bayes_Classifier_Attrition_Flag_Card_Category_Contacts_Count_12_mon_Dependent_count_Education_Level_Months_Inactive_12_mon_2',\n",
    "             'Naive_Bayes_Classifier_Attrition_Flag_Card_Category_Contacts_Count_12_mon_Dependent_count_Education_Level_Months_Inactive_12_mon_1',\n",
    "             'Marital_Status',\n",
    "             'Customer_Age',\n",
    "             'Months_on_book',\n",
    "             'Contacts_Count_12_mon',\n",
    "             'Education_Level',\n",
    "             'Dependent_count',\n",
    "             'Total_Revolving_Bal',\n",
    "             'Months_Inactive_12_mon', \n",
    "             'Avg_Open_To_Buy',\n",
    "             'Total_Amt_Chng_Q4_Q1',\n",
    "             'Total_Relationship_Count',\n",
    "             'Total_Ct_Chng_Q4_Q1'],axis=1)"
   ]
  },
  {
   "cell_type": "markdown",
   "id": "aa39e64d-b4c4-442d-85aa-0a4e6605bf18",
   "metadata": {},
   "source": [
    "## Cleaning and Preprocessing\n",
    "Non current customers were filtered out as they are both irrelevant to the current status of the bank,\n",
    "and contained a number of missing or not reported values.\n",
    "After this is completed, a copy is stored for comparing the effectiveness of further modifications to the data.\n",
    "\n",
    "To ensure order was maintained for Income Categories, they were hardcoded in increasing order.\n",
    "There are only 527 non-blue credit cards in the cleaned data set, so this category was condensed into a boolean.\n",
    "Total transaction amounts and counts were condensed into a single attribute: average value of a single transaction\n",
    "\n",
    "Income labels are manually encoded, since automatic encoders did not maintain an increasing order from one tier to the next\n",
    "\n",
    "Analysis shown below reveals that including an average per-transaction variable performed better than including net amounts and counts\n",
    "\n",
    "Finally, the new label attributes are stored as integers and their source attributes dropped"
   ]
  },
  {
   "cell_type": "code",
   "execution_count": 9,
   "id": "2f920f67-36ac-4164-b224-3ad377a76f84",
   "metadata": {},
   "outputs": [],
   "source": [
    "X = X[X['Attrition_Flag'] == 'Existing Customer']\n",
    "X = X.drop(['Attrition_Flag'],axis=1)\n",
    "X = X[X['Income_Category'] != 'Unknown']\n",
    "\n",
    "X['Is_Male'] = X['Gender']\n",
    "X.loc[X['Gender'] == 'M', 'Is_Male'] = 1\n",
    "X.loc[X['Is_Male'] != 1, 'Is_Male'] = 0\n",
    "\n",
    "X['Is_Premium'] = X['Card_Category']\n",
    "X.loc[X['Card_Category'] == 'Blue', 'Is_Premium'] = 0\n",
    "X.loc[X['Is_Premium'] != 0, 'Is_Premium'] = 1\n",
    "\n",
    "X['Income_Tier'] = X['Income_Category']\n",
    "X.loc[X['Income_Category'] == 'Less than $40K', 'Income_Tier'] = 0\n",
    "X.loc[X['Income_Category'] == '$40K - $60K', 'Income_Tier'] = 1\n",
    "X.loc[X['Income_Category'] == '$60K - $80K', 'Income_Tier'] = 2\n",
    "X.loc[X['Income_Category'] == '$80K - $120K', 'Income_Tier'] = 3\n",
    "X.loc[X['Income_Category'] == '$120K +', 'Income_Tier'] = 4\n",
    "\n",
    "X['Avg_Trans_Value'] = X['Total_Trans_Amt']/X['Total_Trans_Ct']\n",
    "\n",
    "X = X.astype({'Is_Premium': 'int64', 'Income_Tier':'int64', 'Is_Male':'int64'})\n",
    "\n",
    "#drop card_category\n",
    "X = X.drop(['Income_Category', 'Card_Category', 'Total_Trans_Amt', 'Total_Trans_Ct', 'Gender'], axis=1)"
   ]
  },
  {
   "cell_type": "markdown",
   "id": "16862ea1-2951-4b0d-bd2d-a76651cb4236",
   "metadata": {},
   "source": [
    "#### Scaling\n",
    "Scaling the data is important to eliminate differences in magnitudes between attributes. The PCA analysis below shows the amount of variance in the dataset captured by individual attributes. Without scaling, credit limit accounts for virtually all of the variance in the data"
   ]
  },
  {
   "cell_type": "code",
   "execution_count": 10,
   "id": "4dce860e-459f-4522-a0af-57eb7be557a3",
   "metadata": {},
   "outputs": [],
   "source": [
    "scaler1 = MinMaxScaler()\n",
    "cols = X.columns\n",
    "X_scaled = pd.DataFrame(scaler1.fit_transform(X))\n",
    "X_scaled.columns = cols"
   ]
  },
  {
   "cell_type": "code",
   "execution_count": 11,
   "id": "b0fd644b-4251-4d3a-b367-b0f812cd46ba",
   "metadata": {},
   "outputs": [
    {
     "name": "stdout",
     "output_type": "stream",
     "text": [
      "Credit_Limit : 0.9999916852142315\n",
      "Avg_Utilization_Ratio : 8.297278199809901e-06\n",
      "Is_Male : 1.5228876582657947e-08\n",
      "Is_Premium : 1.1199514262527914e-09\n",
      "Income_Tier : 6.302931326654829e-10\n",
      "Avg_Trans_Value : 5.284475908721881e-10\n"
     ]
    }
   ],
   "source": [
    "pca1 = PCA()\n",
    "pca1.fit(X)\n",
    "for i in range(len(pca1.explained_variance_ratio_)):\n",
    "    print(X.columns[i],':',pca1.explained_variance_ratio_[i])"
   ]
  },
  {
   "cell_type": "code",
   "execution_count": 12,
   "id": "6cc833c5-bc66-4459-855e-387aa64de2cc",
   "metadata": {},
   "outputs": [
    {
     "name": "stdout",
     "output_type": "stream",
     "text": [
      "Credit_Limit : 0.6153410616072876\n",
      "Avg_Utilization_Ratio : 0.1686845828725978\n",
      "Is_Male : 0.08451490359629847\n",
      "Is_Premium : 0.06348188681718614\n",
      "Income_Tier : 0.03797654237497293\n",
      "Avg_Trans_Value : 0.030001022731657098\n"
     ]
    }
   ],
   "source": [
    "pca2 = PCA()\n",
    "pca2.fit(X_scaled)\n",
    "for i in range(len(pca2.explained_variance_ratio_)):\n",
    "    print(X_scaled.columns[i],':',pca2.explained_variance_ratio_[i])"
   ]
  },
  {
   "cell_type": "markdown",
   "id": "410824c9-c9be-4194-95d5-60cbb93e11c0",
   "metadata": {},
   "source": [
    "## Clustering\n",
    "Two algorithms were considered: the classic K-Means algo, and the more sophisticated DBScan. The thought process behind each is shown below, and each concludes with label encodings being stored in the dataframe\n",
    "\n",
    "\n",
    "#### K-Means\n",
    "The graph below shows the impact that adding additional clusters to K-Means has on the sum of squares within each cluster. The elbow method reveals a crook in the chart, a point beyond which adding clusters does not improve silhouette scores, a popular performance metric for clustering. Below the chart, silhouette scores are generated to prove what the graph shows: beyond the crook at n_clusters = 2, scores decrease despite the added complexity."
   ]
  },
  {
   "cell_type": "code",
   "execution_count": 13,
   "id": "adb86e0d-5853-48a8-a61d-f21f3202e33f",
   "metadata": {},
   "outputs": [
    {
     "data": {
      "image/png": "[encoded data removed]",
      "text/plain": [
       "<Figure size 432x288 with 1 Axes>"
      ]
     },
     "metadata": {
      "needs_background": "light"
     },
     "output_type": "display_data"
    }
   ],
   "source": [
    "wcss = [] #Within cluster sum of squares\n",
    "for i in range(1, 15):\n",
    "    kmeans = KMeans(n_clusters = i, init = 'k-means++', random_state = 42) #Initialising \n",
    "    kmeans.fit(X_scaled) #Fitting on scaled features\n",
    "    wcss.append(kmeans.inertia_) #Appending the wcss to the blank list\n",
    "plt.plot(range(1, 15), wcss)\n",
    "plt.title('The Elbow Method')\n",
    "plt.xlabel('Number of clusters')\n",
    "plt.ylabel('WCSS')\n",
    "plt.show() "
   ]
  },
  {
   "cell_type": "code",
   "execution_count": 14,
   "id": "f6d6e5f1-9f0a-40db-9036-e9519808fafd",
   "metadata": {},
   "outputs": [
    {
     "name": "stdout",
     "output_type": "stream",
     "text": [
      "for  2  the avg score is  0.5399349390964294\n",
      "for  3  the avg score is  0.47942047157111306\n",
      "for  4  the avg score is  0.46842828158968497\n",
      "for  5  the avg score is  0.39256020245191736\n"
     ]
    }
   ],
   "source": [
    "for n_clusters in range(2,6):\n",
    "    clusterer = KMeans(n_clusters = n_clusters, random_state=10)\n",
    "    cluster_labels = clusterer.fit_predict(X_scaled)\n",
    "    silhouette_avg = silhouette_score(X_scaled, cluster_labels)\n",
    "    print(\"for \", n_clusters,\" the avg score is \", silhouette_avg)"
   ]
  },
  {
   "cell_type": "code",
   "execution_count": 15,
   "id": "3464d2ef-197a-4b60-aa8e-7a3f3ceb8647",
   "metadata": {},
   "outputs": [
    {
     "data": {
      "text/plain": [
       "0.5399349390964294"
      ]
     },
     "execution_count": 15,
     "metadata": {},
     "output_type": "execute_result"
    }
   ],
   "source": [
    "kmeans = KMeans(n_clusters = 2, init = 'k-means++', random_state = 42)\n",
    "y_kmeans = kmeans.fit_predict(X_scaled)\n",
    "X['Kmeans_Labels'] = y_kmeans\n",
    "kmeans_score= silhouette_score(X_scaled,y_kmeans)\n",
    "kmeans_score"
   ]
  },
  {
   "cell_type": "markdown",
   "id": "c34ab820-c3c5-4ff2-8e48-10edbd08afe7",
   "metadata": {},
   "source": [
    "#### DBScan\n",
    "The graph below shows distances between a point and its n nearest neighbors (in this case n = 4). DBScan uses a distance metric called eps to determine how it will cluster points. To clarify, a point may join a cluster if it has at least n nearest neighbors that are closer than the eps value. The number of clusters are not fixed, a feature that differentiates DBScan from its counterpart above.\n",
    "\n",
    "Below the graph, scores for various esp values are generated, as well as the number of clusters the algorithm decides to use for each value."
   ]
  },
  {
   "cell_type": "code",
   "execution_count": 16,
   "id": "b5614751-f5d9-4e90-9fea-448765f69fc0",
   "metadata": {},
   "outputs": [
    {
     "data": {
      "text/plain": [
       "[<matplotlib.lines.Line2D at 0x7f8ee7d7de50>]"
      ]
     },
     "execution_count": 16,
     "metadata": {},
     "output_type": "execute_result"
    },
    {
     "data": {
      "image/png": "[encoded data removed]",
      "text/plain": [
       "<Figure size 432x288 with 1 Axes>"
      ]
     },
     "metadata": {
      "needs_background": "light"
     },
     "output_type": "display_data"
    }
   ],
   "source": [
    "neighbors = NearestNeighbors(n_neighbors=4)\n",
    "neighbors_fit = neighbors.fit(X_scaled)\n",
    "distances, indices = neighbors_fit.kneighbors(X_scaled)\n",
    "distances = np.sort(distances, axis=0)\n",
    "distances = distances[:,1]\n",
    "plt.plot(distances)"
   ]
  },
  {
   "cell_type": "code",
   "execution_count": 17,
   "id": "6d101c4e-9cb6-40e9-9462-1785fb93942a",
   "metadata": {},
   "outputs": [
    {
     "name": "stdout",
     "output_type": "stream",
     "text": [
      "0.2\n",
      "Number of labels:  15\n",
      "score is  0.16421065560029938\n",
      "0.3\n",
      "Number of labels:  5\n",
      "score is  0.536253760356962\n",
      "0.4\n",
      "Number of labels:  5\n",
      "score is  0.5320303948812432\n",
      "0.5\n",
      "Number of labels:  5\n",
      "score is  0.5320303948812432\n",
      "0.6\n",
      "Number of labels:  4\n",
      "score is  0.5556612526350743\n"
     ]
    }
   ],
   "source": [
    "ranges = [.2,.3,.4,.5,.6]\n",
    "for i in ranges:\n",
    "    print(i)\n",
    "    db = DBSCAN(eps=i, min_samples=5).fit(X_scaled)\n",
    "    labels = db.labels_\n",
    "    print(\"Number of labels: \", len(set(labels)))\n",
    "    silhouette_avg = silhouette_score(X_scaled,labels)\n",
    "    print(\"score is \", silhouette_avg)"
   ]
  },
  {
   "cell_type": "code",
   "execution_count": 18,
   "id": "00380891-7ab1-426f-910c-0d2fecfbb2b2",
   "metadata": {},
   "outputs": [],
   "source": [
    "db = DBSCAN(eps=.6, min_samples=5).fit(X_scaled)\n",
    "labels = db.labels_\n",
    "X['DBSCAN_Labels'] = labels"
   ]
  },
  {
   "cell_type": "markdown",
   "id": "93dcd70e-a711-491e-93b7-ae586bdcc6e3",
   "metadata": {},
   "source": [
    "## Data Selection\n",
    "Values were included in the baseline based on either their percieved usefulness. However, as box plots were developed, it \n",
    "became clear that certain attributes were not being sufficiently differentiated by clustering. As an experiment, various attributes were added to and removed from the training set. The table below shows how scores increased and decreased with the presence of certain attributes.\n",
    "\n",
    "Baseline dataset is Customer_Age, Months_on_book, Total_Relationship_Count, Contacts_Count_12_mon, Credit_Limit, Total_Revolving_Bal, Avg_Utilization_Ratio, Is_Premium, Income_Tier, Avg_Trans_Value\n",
    "\n",
    "| Item        | Kmeans Score | DBSCAN Score |\n",
    "| ----------- | -----------  |----------- |\n",
    "| Baseline      | 0.2188        | 0.3137 |\n",
    "| With Is_Male   | 0.3571         | 0.3386 |\n",
    "| With Marital_Labels   | 0.3236 | 0.3011 |\n",
    "| With Education Level   | 0.3048 | 0.2824 |\n",
    "| Without Avg Trans Value| 0.3103 | 0.2923 |\n",
    "| Without Months On Book | 0.3712 | 0.3602 |\n",
    "| Without Customer Age   | 0.3856 | 0.3769 |\n",
    "| Without Contacts in last 12 months | 0.4117 | 0.4073 |\n",
    "| Without Total Relationship Count | 0.4707 | 0.4734 |\n",
    "| Without Total Relationship Count | 0.5399 | 0.5556 |"
   ]
  },
  {
   "cell_type": "markdown",
   "id": "13ef0f82-2016-4c77-b467-e2715b24d78b",
   "metadata": {},
   "source": [
    "## Analysis\n",
    "Visualizations and summary statistics for clusters are displayed below. For now, they are disorganized as a decision has not yet been made on what will be shown and how it will be presented in the final model."
   ]
  },
  {
   "cell_type": "code",
   "execution_count": null,
   "id": "c82678fa-fd9d-49ab-862e-e6902a6fb774",
   "metadata": {},
   "outputs": [],
   "source": [
    "for c in X.drop(['Kmeans_Labels','DBSCAN_Labels'], axis=1).columns:\n",
    "    print(c, silhouette_score(pd.DataFrame(X_scaled[c]),X['DBSCAN_Labels']))"
   ]
  },
  {
   "cell_type": "code",
   "execution_count": 80,
   "id": "2021f4e9-0eda-4542-beb1-d649276ad6e0",
   "metadata": {},
   "outputs": [
    {
     "data": {
      "text/html": [
       "<div>\n",
       "<style scoped>\n",
       "    .dataframe tbody tr th:only-of-type {\n",
       "        vertical-align: middle;\n",
       "    }\n",
       "\n",
       "    .dataframe tbody tr th {\n",
       "        vertical-align: top;\n",
       "    }\n",
       "\n",
       "    .dataframe thead th {\n",
       "        text-align: right;\n",
       "    }\n",
       "</style>\n",
       "<table border=\"1\" class=\"dataframe\">\n",
       "  <thead>\n",
       "    <tr style=\"text-align: right;\">\n",
       "      <th></th>\n",
       "      <th>Credit_Limit</th>\n",
       "      <th>Avg_Utilization_Ratio</th>\n",
       "      <th>Is_Male</th>\n",
       "      <th>Is_Premium</th>\n",
       "      <th>Income_Tier</th>\n",
       "      <th>Avg_Trans_Value</th>\n",
       "    </tr>\n",
       "    <tr>\n",
       "      <th>DBSCAN_Labels</th>\n",
       "      <th></th>\n",
       "      <th></th>\n",
       "      <th></th>\n",
       "      <th></th>\n",
       "      <th></th>\n",
       "      <th></th>\n",
       "    </tr>\n",
       "  </thead>\n",
       "  <tbody>\n",
       "    <tr>\n",
       "      <th>0</th>\n",
       "      <td>3661</td>\n",
       "      <td>3661</td>\n",
       "      <td>3661</td>\n",
       "      <td>3661</td>\n",
       "      <td>3661</td>\n",
       "      <td>3661</td>\n",
       "    </tr>\n",
       "    <tr>\n",
       "      <th>1</th>\n",
       "      <td>3387</td>\n",
       "      <td>3387</td>\n",
       "      <td>3387</td>\n",
       "      <td>3387</td>\n",
       "      <td>3387</td>\n",
       "      <td>3387</td>\n",
       "    </tr>\n",
       "    <tr>\n",
       "      <th>2</th>\n",
       "      <td>364</td>\n",
       "      <td>364</td>\n",
       "      <td>364</td>\n",
       "      <td>364</td>\n",
       "      <td>364</td>\n",
       "      <td>364</td>\n",
       "    </tr>\n",
       "    <tr>\n",
       "      <th>3</th>\n",
       "      <td>163</td>\n",
       "      <td>163</td>\n",
       "      <td>163</td>\n",
       "      <td>163</td>\n",
       "      <td>163</td>\n",
       "      <td>163</td>\n",
       "    </tr>\n",
       "  </tbody>\n",
       "</table>\n",
       "</div>"
      ],
      "text/plain": [
       "               Credit_Limit  Avg_Utilization_Ratio  Is_Male  Is_Premium  \\\n",
       "DBSCAN_Labels                                                             \n",
       "0                      3661                   3661     3661        3661   \n",
       "1                      3387                   3387     3387        3387   \n",
       "2                       364                    364      364         364   \n",
       "3                       163                    163      163         163   \n",
       "\n",
       "               Income_Tier  Avg_Trans_Value  \n",
       "DBSCAN_Labels                                \n",
       "0                     3661             3661  \n",
       "1                     3387             3387  \n",
       "2                      364              364  \n",
       "3                      163              163  "
      ]
     },
     "execution_count": 80,
     "metadata": {},
     "output_type": "execute_result"
    }
   ],
   "source": [
    "X.drop('Kmeans_Labels',axis=1).groupby('DBSCAN_Labels').count()"
   ]
  },
  {
   "cell_type": "code",
   "execution_count": 18,
   "id": "a987d9ba-2659-4846-af77-2e0382d94d4d",
   "metadata": {},
   "outputs": [
    {
     "data": {
      "image/png": "[encoded data removed]",
      "text/plain": [
       "<Figure size 432x288 with 1 Axes>"
      ]
     },
     "metadata": {
      "needs_background": "light"
     },
     "output_type": "display_data"
    },
    {
     "data": {
      "image/png": "[encoded data removed]",
      "text/plain": [
       "<Figure size 432x288 with 1 Axes>"
      ]
     },
     "metadata": {
      "needs_background": "light"
     },
     "output_type": "display_data"
    },
    {
     "data": {
      "image/png": "[encoded data removed]",
      "text/plain": [
       "<Figure size 432x288 with 1 Axes>"
      ]
     },
     "metadata": {
      "needs_background": "light"
     },
     "output_type": "display_data"
    },
    {
     "data": {
      "image/png": "[encoded data removed]",
      "text/plain": [
       "<Figure size 432x288 with 1 Axes>"
      ]
     },
     "metadata": {
      "needs_background": "light"
     },
     "output_type": "display_data"
    },
    {
     "data": {
      "image/png": "[encoded data removed]",
      "text/plain": [
       "<Figure size 432x288 with 1 Axes>"
      ]
     },
     "metadata": {
      "needs_background": "light"
     },
     "output_type": "display_data"
    },
    {
     "data": {
      "image/png": "[encoded data removed]",
      "text/plain": [
       "<Figure size 432x288 with 1 Axes>"
      ]
     },
     "metadata": {
      "needs_background": "light"
     },
     "output_type": "display_data"
    }
   ],
   "source": [
    "for c in X.drop(['Kmeans_Labels','DBSCAN_Labels'], axis=1).columns:\n",
    "    sns.boxplot(x='DBSCAN_Labels',y=c,data=X)\n",
    "    plt.show()\n",
    "#X.columns"
   ]
  },
  {
   "cell_type": "code",
   "execution_count": 79,
   "id": "1514b94f-8765-4963-81a6-daad72c1bdcd",
   "metadata": {},
   "outputs": [
    {
     "data": {
      "text/plain": [
       "<seaborn.axisgrid.FacetGrid at 0x7fddf6bff880>"
      ]
     },
     "execution_count": 79,
     "metadata": {},
     "output_type": "execute_result"
    },
    {
     "data": {
      "image/png": "[encoded data removed]",
      "text/plain": [
       "<Figure size 447.125x360 with 1 Axes>"
      ]
     },
     "metadata": {
      "needs_background": "light"
     },
     "output_type": "display_data"
    }
   ],
   "source": [
    "#'Credit_Limit', 'Avg_Utilization_Ratio', 'Is_Male', 'Is_Premium','Income_Tier', 'Avg_Trans_Value'\n",
    "#for j in X.drop(['Kmeans_Labels','DBSCAN_Labels','Avg_Trans_Value'], axis=1).columns:\n",
    "sns.displot(X, x=X['Income_Tier'], hue=\"DBSCAN_Labels\",palette='bright',multiple=\"dodge\")"
   ]
  },
  {
   "cell_type": "markdown",
   "id": "facb8dab-5350-487e-bb83-da637f73a240",
   "metadata": {},
   "source": [
    "## Automation and Implementation\n",
    "Combining elements from above, element distances are calculated and used to build a range of possible eps values. Since we want the algorithm clustering large portions of the data, it is important that these values are taken on the larger end of existing distances. A number of DBSCAN clusters are ran and results compared to find the best silhouette score and the eps value it corresponds with. \n",
    "\n",
    "This takes the manual comparison element out of the equation while allowing the algorithm to dynamically select the best possible esp parameter for itself.\n",
    "\n",
    "*As a note, using scaled data ensures max distances will be contained, as all scaled attributes range between 0 and 1*"
   ]
  },
  {
   "cell_type": "code",
   "execution_count": 48,
   "id": "bb2988db-0e70-47e8-aa0a-5890101f610d",
   "metadata": {},
   "outputs": [],
   "source": [
    "neighbors = NearestNeighbors(n_neighbors=4)\n",
    "neighbors_fit = neighbors.fit(X_scaled)\n",
    "distances, indices = neighbors_fit.kneighbors(X_scaled)\n",
    "distances = np.sort(distances, axis=0)\n",
    "distances = distances[:,1]\n",
    "start = round(math.ceil(distances.mean()*10))/10\n",
    "end = round(math.ceil(distances.max()*10))/10\n",
    "\n",
    "best_eps,score = 0,0\n",
    "for eps_try in np.arange(start,end+.1,.1):\n",
    "    temp_db = DBSCAN(eps=eps_try, min_samples=5).fit(X_scaled)\n",
    "    labels = temp_db.labels_\n",
    "    silhouette_avg = silhouette_score(X_scaled,labels)\n",
    "    if silhouette_avg > score:\n",
    "        score = silhouette_avg\n",
    "        best_eps = eps_try\n",
    "\n",
    "db = DBSCAN(eps=best_eps, min_samples=5).fit(X_scaled)"
   ]
  },
  {
   "cell_type": "code",
   "execution_count": null,
   "id": "0f755abe-d96e-49e9-85f5-064293d07bea",
   "metadata": {},
   "outputs": [],
   "source": [
    "Credit_Limit 0.04504454648577383\n",
    "Is_Male 0.0\n",
    "Is_Premium 0.0\n",
    "Income_Tier -0.02639005186406775\n",
    "Avg_Trans_Value -0.030605123392114065\n",
    "Avg_Utilization_Ratio -0.2894757321123618"
   ]
  },
  {
   "cell_type": "code",
   "execution_count": 53,
   "id": "21fadd8f-e230-468d-a9d5-63544b930c0c",
   "metadata": {},
   "outputs": [
    {
     "data": {
      "text/html": [
       "<svg  width=\"550\" height=\"55\"><rect x=\"0\" y=\"0\" width=\"55\" height=\"55\" style=\"fill:#1f77b4;stroke-width:2;stroke:rgb(255,255,255)\"/><rect x=\"55\" y=\"0\" width=\"55\" height=\"55\" style=\"fill:#ff7f0e;stroke-width:2;stroke:rgb(255,255,255)\"/><rect x=\"110\" y=\"0\" width=\"55\" height=\"55\" style=\"fill:#2ca02c;stroke-width:2;stroke:rgb(255,255,255)\"/><rect x=\"165\" y=\"0\" width=\"55\" height=\"55\" style=\"fill:#d62728;stroke-width:2;stroke:rgb(255,255,255)\"/><rect x=\"220\" y=\"0\" width=\"55\" height=\"55\" style=\"fill:#9467bd;stroke-width:2;stroke:rgb(255,255,255)\"/><rect x=\"275\" y=\"0\" width=\"55\" height=\"55\" style=\"fill:#8c564b;stroke-width:2;stroke:rgb(255,255,255)\"/><rect x=\"330\" y=\"0\" width=\"55\" height=\"55\" style=\"fill:#e377c2;stroke-width:2;stroke:rgb(255,255,255)\"/><rect x=\"385\" y=\"0\" width=\"55\" height=\"55\" style=\"fill:#7f7f7f;stroke-width:2;stroke:rgb(255,255,255)\"/><rect x=\"440\" y=\"0\" width=\"55\" height=\"55\" style=\"fill:#bcbd22;stroke-width:2;stroke:rgb(255,255,255)\"/><rect x=\"495\" y=\"0\" width=\"55\" height=\"55\" style=\"fill:#17becf;stroke-width:2;stroke:rgb(255,255,255)\"/></svg>"
      ],
      "text/plain": [
       "[(0.12156862745098039, 0.4666666666666667, 0.7058823529411765),\n",
       " (1.0, 0.4980392156862745, 0.054901960784313725),\n",
       " (0.17254901960784313, 0.6274509803921569, 0.17254901960784313),\n",
       " (0.8392156862745098, 0.15294117647058825, 0.1568627450980392),\n",
       " (0.5803921568627451, 0.403921568627451, 0.7411764705882353),\n",
       " (0.5490196078431373, 0.33725490196078434, 0.29411764705882354),\n",
       " (0.8901960784313725, 0.4666666666666667, 0.7607843137254902),\n",
       " (0.4980392156862745, 0.4980392156862745, 0.4980392156862745),\n",
       " (0.7372549019607844, 0.7411764705882353, 0.13333333333333333),\n",
       " (0.09019607843137255, 0.7450980392156863, 0.8117647058823529)]"
      ]
     },
     "execution_count": 53,
     "metadata": {},
     "output_type": "execute_result"
    }
   ],
   "source": [
    "sns.color_palette()"
   ]
  },
  {
   "cell_type": "code",
   "execution_count": null,
   "id": "e299b9d1-4e5c-4f9b-a260-ff8867217f3d",
   "metadata": {},
   "outputs": [],
   "source": []
  }
 ],
 "metadata": {
  "kernelspec": {
   "display_name": "Python 3",
   "language": "python",
   "name": "python3"
  },
  "language_info": {
   "codemirror_mode": {
    "name": "ipython",
    "version": 3
   },
   "file_extension": ".py",
   "mimetype": "text/x-python",
   "name": "python",
   "nbconvert_exporter": "python",
   "pygments_lexer": "ipython3",
   "version": "3.9.4"
  }
 },
 "nbformat": 4,
 "nbformat_minor": 5
}
